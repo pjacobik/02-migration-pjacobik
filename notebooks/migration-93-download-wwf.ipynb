{
  "cells": [
    {
      "cell_type": "markdown",
      "id": "a9ee0085-14be-4448-8356-ad77939f79e6",
      "metadata": {},
      "source": [
        "# Migration Data Download\n",
        "\n",
        "Get occurrence data from the Global Biodiversity Information Facility\n",
        "(GBIF)\n",
        "\n",
        "## STEP 0: Set up\n",
        "\n",
        "To get started on this notebook, you’ll need to restore any variables\n",
        "from previous notebooks to your workspace. To save time and memory, make\n",
        "sure to specify which variables you want to load."
      ]
    },
    {
      "cell_type": "code",
      "execution_count": null,
      "id": "300a60b6",
      "metadata": {},
      "outputs": [],
      "source": [
        "%store -r backbone species_key original_gbif_path \n",
        "%store -r gbif_path gbif_df gbif_gdf\n",
        "%store -r project project_dir"
      ]
    },
    {
      "cell_type": "code",
      "execution_count": null,
      "id": "fb7bbc3f",
      "metadata": {},
      "outputs": [],
      "source": [
        "#import needed packages\n",
        "import json\n",
        "import requests\n",
        "import geopandas as gpd\n",
        "from io import BytesIO "
      ]
    },
    {
      "cell_type": "code",
      "execution_count": null,
      "id": "919bc93a",
      "metadata": {
        "template": "answer"
      },
      "outputs": [],
      "source": [
        "# Merge the GBIF observations into a single geometry\n",
        "gbif_union = gbif_gdf.geometry.union_all().envelope\n",
        "gbif_union"
      ]
    },
    {
      "cell_type": "markdown",
      "id": "dedab96c-32c4-4404-b2cb-bb2da4560e6d",
      "metadata": {},
      "source": [
        "<link rel=\"stylesheet\" type=\"text/css\" href=\"./assets/styles.css\"><div class=\"callout callout-style-default callout-titled callout-task\"><div class=\"callout-header\"><div class=\"callout-icon-container\"><i class=\"callout-icon\"></i></div><div class=\"callout-title-container flex-fill\">Try It</div></div><div class=\"callout-body-container callout-body\"><p>Run the code below, which converts your Polygon to a special type of\n",
        "GeoJSON needed for compatibility with the ArcGIS Feature Service. Check\n",
        "out and explore this data structure. How would you extract the\n",
        "geographic coordinates?</p></div></div>"
      ]
    },
    {
      "cell_type": "code",
      "execution_count": null,
      "id": "aa05ac30",
      "metadata": {
        "template": "student"
      },
      "outputs": [],
      "source": [
        "# Convert geometry to geoJSON\n",
        "gbif_geojson = gbif_union.__geo_interface__\n",
        "\n",
        "gbif_geojson"
      ]
    },
    {
      "cell_type": "markdown",
      "id": "7422cc46-c7e1-400d-88a8-1107fa0a8002",
      "metadata": {},
      "source": [
        "<link rel=\"stylesheet\" type=\"text/css\" href=\"./assets/styles.css\"><div class=\"callout callout-style-default callout-titled callout-respond\"><div class=\"callout-header\"><div class=\"callout-icon-container\"><i class=\"callout-icon\"></i></div><div class=\"callout-title-container flex-fill\">Reflect and Respond</div></div><div class=\"callout-body-container callout-body\"><p>What type of Python object is this geoJSON? How will you get the\n",
        "geographic coordinates only?</p></div></div>\n",
        "\n",
        "<link rel=\"stylesheet\" type=\"text/css\" href=\"./assets/styles.css\"><div class=\"callout callout-style-default callout-titled callout-task\"><div class=\"callout-header\"><div class=\"callout-icon-container\"><i class=\"callout-icon\"></i></div><div class=\"callout-title-container flex-fill\">Try It</div></div><div class=\"callout-body-container callout-body\"><ol type=\"1\">\n",
        "<li>Replace <code>feature-key</code> with the coordinate key you noted\n",
        "above.</li>\n",
        "<li>Replace CRS with the CRS of your GBIF download. It should be\n",
        "formatted as a 4-digit number, e.g. if the CRS is EPSG:1234, you should\n",
        "put <code>1234</code> into Python.</li>\n",
        "</ol></div></div>"
      ]
    },
    {
      "cell_type": "markdown",
      "id": "6cae2b8b",
      "metadata": {},
      "source": [
        "This geoJSON is the dictionary type of python object. It stores the polygon\n",
        "data from the gbif_union observations. You can extract just the coordinates\n",
        "by calling for them with gbif_geojson[\"coordinates\"]."
      ]
    },
    {
      "cell_type": "code",
      "execution_count": null,
      "id": "a1f69ef2",
      "metadata": {
        "template": "student"
      },
      "outputs": [],
      "source": [
        "# Construct ArcGIS-compatible JSON\n",
        "arcgis_geom = json.dumps(dict(\n",
        "    rings=gbif_geojson[\"coordinates\"],\n",
        "    spatialReference={\"wkid\": 4326}\n",
        "))\n"
      ]
    },
    {
      "cell_type": "markdown",
      "id": "282ba5fd-f300-4726-8a85-ad1342f27f60",
      "metadata": {},
      "source": [
        "### STEP 2: Download data from the ArcGIS FeatureService"
      ]
    },
    {
      "cell_type": "code",
      "execution_count": null,
      "id": "fa201781",
      "metadata": {
        "template": "answer"
      },
      "outputs": [],
      "source": [
        "# Prepare API request\n",
        "eco_url = (\n",
        "    \"https://services5.arcgis.com/0AFsQflykfA9lXZn\"\n",
        "    \"/ArcGIS/rest/services\"\n",
        "    \"/WWF_Terrestrial_Ecoregions_Of_The_World_official_teow\"\n",
        "    \"/FeatureServer/0/query\")\n",
        "eco_params = {\n",
        "    \"f\": \"geojson\",\n",
        "    \"where\": \"1=1\",\n",
        "    \"outFields\": \"eco_code,area_km2\",\n",
        "    \"returnGeometry\": \"true\",\n",
        "    # Return polygons containing any GBIF observation\n",
        "    \"spatialRel\": \"esriSpatialRelIntersects\",  \n",
        "    \"geometryType\": \"esriGeometryPolygon\",\n",
        "    # Override web Mercator server default\n",
        "    \"inSR\": \"4326\",\n",
        "    \"outSR\": \"4326\",\n",
        "    # Must format geometry\n",
        "    \"geometry\": arcgis_geom\n",
        "}\n",
        "\n",
        "# Submit API request\n",
        "eco_resp = requests.get(\n",
        "    eco_url, params=eco_params,\n",
        "    headers={\"Accept-Encoding\": \"identity\"})\n",
        "eco_resp.raise_for_status()\n",
        "\n",
        "# Load binary data to DataFrame\n",
        "eco_gdf = gpd.read_file(BytesIO(eco_resp.content))\n",
        "\n",
        "# Check the download\n",
        "eco_gdf.head()"
      ]
    },
    {
      "cell_type": "markdown",
      "id": "bc8235d0-987f-4e29-ab0d-65ed256b72c6",
      "metadata": {},
      "source": [
        "<link rel=\"stylesheet\" type=\"text/css\" href=\"./assets/styles.css\"><div class=\"callout callout-style-default callout-titled callout-task\"><div class=\"callout-header\"><div class=\"callout-icon-container\"><i class=\"callout-icon\"></i></div><div class=\"callout-title-container flex-fill\">Try It</div></div><div class=\"callout-body-container callout-body\"><p>Now, make a quick plot of your download to make sure that it worked\n",
        "correctly.</p></div></div>"
      ]
    },
    {
      "cell_type": "code",
      "execution_count": null,
      "id": "fc6675e0",
      "metadata": {
        "template": "answer"
      },
      "outputs": [],
      "source": [
        "# Plot the ecoregion data\n",
        "eco_gdf.plot()"
      ]
    },
    {
      "cell_type": "markdown",
      "id": "00ebd6d5-dda0-41e0-98cf-c9b7ad37ee30",
      "metadata": {},
      "source": [
        "### STEP 3 (Optional): Save your data\n",
        "\n",
        "<link rel=\"stylesheet\" type=\"text/css\" href=\"./assets/styles.css\"><div class=\"callout callout-style-default callout-titled callout-task\"><div class=\"callout-header\"><div class=\"callout-icon-container\"><i class=\"callout-icon\"></i></div><div class=\"callout-title-container flex-fill\">Try It</div></div><div class=\"callout-body-container callout-body\"><ol type=\"1\">\n",
        "<li>Create a new directory in your data directory for the ecoregions\n",
        "data.</li>\n",
        "<li>Define a path to a Shapefile where you will save the ecoregions\n",
        "data.</li>\n",
        "<li>Save the ecoregions to the file.</li>\n",
        "</ol></div></div>"
      ]
    },
    {
      "cell_type": "code",
      "execution_count": null,
      "id": "2cdfe1ac",
      "metadata": {
        "template": "answer"
      },
      "outputs": [],
      "source": [
        "# Save the ecoregion data\n",
        "eco_dir = project.project_dir / 'ecoregions'\n",
        "eco_dir.mkdir(exist_ok=True)\n",
        "eco_path = eco_dir / 'ecoregions.shp'\n",
        "eco_gdf.to_file(eco_path)"
      ]
    }
  ],
  "metadata": {
    "kernelspec": {
      "display_name": "base",
      "language": "python",
      "name": "python3"
    },
    "language_info": {
      "codemirror_mode": {
        "name": "ipython",
        "version": 3
      },
      "file_extension": ".py",
      "mimetype": "text/x-python",
      "name": "python",
      "nbconvert_exporter": "python",
      "pygments_lexer": "ipython3",
      "version": "3.11.6"
    }
  },
  "nbformat": 4,
  "nbformat_minor": 5
}
